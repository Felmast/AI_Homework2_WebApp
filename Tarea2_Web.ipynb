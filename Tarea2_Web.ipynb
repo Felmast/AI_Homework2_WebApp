{
 "cells": [
  {
   "cell_type": "code",
   "execution_count": 3,
   "id": "475df7e1-6014-4566-b66b-f74e154d936d",
   "metadata": {},
   "outputs": [],
   "source": [
    "#from duckduckgo_search import *\n",
    "from fastbook import *\n",
    "from fastcore.all import *\n",
    "from fastai.vision.widgets import *\n",
    "import socket,warnings\n",
    "import os\n",
    "#from fastdownload import download_url\n",
    "#from fastai.vision.all import *"
   ]
  },
  {
   "cell_type": "code",
   "execution_count": 5,
   "id": "8a36e2cd-c7f0-4d7b-ab28-8b9d151ad16b",
   "metadata": {},
   "outputs": [],
   "source": [
    "#Cargar un modelo\n",
    "path = Path()\n",
    "path.ls(file_exts='.pkl')\n",
    "learn = load_learner(path/'export.pkl')"
   ]
  },
  {
   "cell_type": "code",
   "execution_count": 8,
   "id": "5d52e226-19e1-4671-8d2d-c2cec0ff6f9c",
   "metadata": {},
   "outputs": [
    {
     "data": {
      "application/vnd.jupyter.widget-view+json": {
       "model_id": "7f31e43a7d274d89b0ead503085e2690",
       "version_major": 2,
       "version_minor": 0
      },
      "text/plain": [
       "VBox(children=(Label(value='Select your bird!'), FileUpload(value={}, description='Upload'), Button(descriptio…"
      ]
     },
     "metadata": {},
     "output_type": "display_data"
    }
   ],
   "source": [
    "btn_upload = widgets.FileUpload()\n",
    "btn_run = widgets.Button(description='Classify')\n",
    "out_pl = widgets.Output()\n",
    "out_pl.clear_output()\n",
    "lbl_pred = widgets.Label()\n",
    "def on_click_classify(change):\n",
    "    img = PILImage.create(btn_upload.data[-1])\n",
    "    out_pl.clear_output()\n",
    "    with out_pl: display(img.to_thumb(128,128))\n",
    "    pred,pred_idx,probs = learn.predict(img)\n",
    "    lbl_pred.value = f'Prediction: {pred}; Probability: {probs[pred_idx]:.04f}'\n",
    "\n",
    "btn_run.on_click(on_click_classify)\n",
    "\n",
    "#hide_output\n",
    "VBox([widgets.Label('Select your bird!'), \n",
    "      btn_upload, btn_run, out_pl, lbl_pred])"
   ]
  },
  {
   "cell_type": "code",
   "execution_count": null,
   "id": "3a2582f4-8e68-457c-be71-028766c36629",
   "metadata": {},
   "outputs": [],
   "source": []
  }
 ],
 "metadata": {
  "kernelspec": {
   "display_name": "Python 3 (ipykernel)",
   "language": "python",
   "name": "python3"
  },
  "language_info": {
   "codemirror_mode": {
    "name": "ipython",
    "version": 3
   },
   "file_extension": ".py",
   "mimetype": "text/x-python",
   "name": "python",
   "nbconvert_exporter": "python",
   "pygments_lexer": "ipython3",
   "version": "3.12.2"
  }
 },
 "nbformat": 4,
 "nbformat_minor": 5
}
